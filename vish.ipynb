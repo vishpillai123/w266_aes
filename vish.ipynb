{
 "cells": [
  {
   "cell_type": "code",
   "execution_count": 1,
   "metadata": {},
   "outputs": [],
   "source": [
    "import pandas as pd\n",
    "import numpy as np \n",
    "import tensorflow as tf"
   ]
  },
  {
   "cell_type": "code",
   "execution_count": 27,
   "metadata": {},
   "outputs": [
    {
     "name": "stdout",
     "output_type": "stream",
     "text": [
      "(12978, 28)\n"
     ]
    }
   ],
   "source": [
    "train = pd.read_excel('training_set_rel3.xlsx')\n",
    "print(train.shape)\n",
    "train['length'] = train['essay'].str.len()"
   ]
  },
  {
   "cell_type": "code",
   "execution_count": 29,
   "metadata": {},
   "outputs": [
    {
     "name": "stdout",
     "output_type": "stream",
     "text": [
      "length\n",
      "essay_set\n",
      "1    2029.385306\n",
      "2    2097.027778\n",
      "3     587.169177\n",
      "4     509.879797\n",
      "5     685.508587\n",
      "6     892.547222\n",
      "7     844.596558\n",
      "8    3180.932227\n",
      "Name: length, dtype: float64\n",
      "\n",
      "num_samples\n",
      "essay_set\n",
      "1    1783\n",
      "2    1800\n",
      "3    1726\n",
      "4    1772\n",
      "5    1805\n",
      "6    1800\n",
      "7    1569\n",
      "8     723\n",
      "Name: essay, dtype: int64\n"
     ]
    }
   ],
   "source": [
    "print('length')\n",
    "print(train.groupby('essay_set').mean().length)\n",
    "print('\\nnum_samples')\n",
    "print(train.groupby('essay_set').count().essay)\n"
   ]
  },
  {
   "cell_type": "code",
   "execution_count": null,
   "metadata": {},
   "outputs": [],
   "source": []
  }
 ],
 "metadata": {
  "kernelspec": {
   "display_name": "Python 3",
   "language": "python",
   "name": "python3"
  },
  "language_info": {
   "codemirror_mode": {
    "name": "ipython",
    "version": 3
   },
   "file_extension": ".py",
   "mimetype": "text/x-python",
   "name": "python",
   "nbconvert_exporter": "python",
   "pygments_lexer": "ipython3",
   "version": "3.8.5"
  }
 },
 "nbformat": 4,
 "nbformat_minor": 4
}
