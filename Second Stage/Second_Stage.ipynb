{
  "nbformat": 4,
  "nbformat_minor": 0,
  "metadata": {
    "colab": {
      "name": "Second Stage.ipynb",
      "provenance": [],
      "collapsed_sections": []
    },
    "kernelspec": {
      "name": "python3",
      "display_name": "Python 3"
    },
    "language_info": {
      "name": "python"
    }
  },
  "cells": [
    {
      "cell_type": "code",
      "metadata": {
        "colab": {
          "base_uri": "https://localhost:8080/"
        },
        "id": "xABao9vr-Oj5",
        "outputId": "2b68514a-b04c-41d9-832e-36fa7ca1f8aa"
      },
      "source": [
        "import warnings\n",
        "warnings.filterwarnings('ignore')\n",
        "\n",
        "import numpy as np \n",
        "from numpy import asarray\n",
        "import pandas as pd \n",
        "import matplotlib.pyplot as plt\n",
        "import seaborn as sns\n",
        "\n",
        "import sklearn\n",
        "from sklearn.model_selection import train_test_split, KFold,GridSearchCV\n",
        "from sklearn.metrics import mean_squared_error,cohen_kappa_score, make_scorer\n",
        "\n",
        "# xgboost\n",
        "!pip install xgboost\n",
        "import xgboost as xgb\n",
        "from xgboost import XGBRegressor"
      ],
      "execution_count": null,
      "outputs": [
        {
          "output_type": "stream",
          "text": [
            "Requirement already satisfied: xgboost in /usr/local/lib/python3.7/dist-packages (0.90)\n",
            "Requirement already satisfied: numpy in /usr/local/lib/python3.7/dist-packages (from xgboost) (1.19.5)\n",
            "Requirement already satisfied: scipy in /usr/local/lib/python3.7/dist-packages (from xgboost) (1.4.1)\n"
          ],
          "name": "stdout"
        }
      ]
    },
    {
      "cell_type": "code",
      "metadata": {
        "colab": {
          "base_uri": "https://localhost:8080/"
        },
        "id": "IS35xyqK_Zgs",
        "outputId": "358b1173-9321-4f76-f95e-2127853cb749"
      },
      "source": [
        "#load dataset\n",
        "from google.colab import drive\n",
        "drive.mount('/content/drive')"
      ],
      "execution_count": null,
      "outputs": [
        {
          "output_type": "stream",
          "text": [
            "Mounted at /content/drive\n"
          ],
          "name": "stdout"
        }
      ]
    },
    {
      "cell_type": "code",
      "metadata": {
        "id": "pbn-IW2l-Sq1"
      },
      "source": [
        "train = pd.read_csv(\"/content/drive/MyDrive/Colab Notebooks/asap-aes/Data/training_set_rel3.tsv\",sep='\\t', encoding='ISO-8859-1')\n",
        "dev = pd.read_csv(\"/content/drive/MyDrive/Colab Notebooks/asap-aes/Data/valid_set.tsv\",sep='\\t', encoding='ISO-8859-1')\n",
        "test = pd.read_csv(\"/content/drive/MyDrive/Colab Notebooks/asap-aes/Data/test_set.tsv\",sep='\\t', encoding='ISO-8859-1')"
      ],
      "execution_count": null,
      "outputs": []
    },
    {
      "cell_type": "code",
      "metadata": {
        "id": "rA4HP7Hm-WlU"
      },
      "source": [
        "## import feature\n",
        "\n",
        "# for semantic score\n",
        "semantic_results_lstm = pd.read_csv(\"/content/drive/MyDrive/Colab Notebooks/asap-aes/Data/semantic_score_train_lstm.csv\")\n",
        "semantic_results_bert = pd.read_csv(\"/content/drive/MyDrive/Colab Notebooks/asap-aes/Data/semantic_results_train_bert.csv\")\n",
        "\n",
        "# for coherence score\n",
        "local_coherence_results = pd.read_csv(\"/content/drive/MyDrive/Colab Notebooks/asap-aes/Data/local_coherence_results_train.csv\")\n",
        "global_coherence_results = pd.read_csv(\"/content/drive/MyDrive/Colab Notebooks/asap-aes/Data/global_coherence_results_train.csv\")\n",
        "\n",
        "# for prompt relevant score\n",
        "cosine_similarity = pd.read_csv(\"/content/drive/MyDrive/Colab Notebooks/asap-aes/Data/Cosine_similarity.csv\")\n",
        "prompt_relevant_results = pd.read_csv(\"/content/drive/MyDrive/Colab Notebooks/asap-aes/Data/prompt_results_train.csv\")\n",
        "\n",
        "# handcrafted features\n",
        "handcrafted_features = pd.read_csv(\"/content/drive/MyDrive/Colab Notebooks/asap-aes/Data/handcrafted_features_train.csv\")"
      ],
      "execution_count": null,
      "outputs": []
    },
    {
      "cell_type": "code",
      "metadata": {
        "id": "PikXEhMCvHLb"
      },
      "source": [
        "local_coherence_results = local_coherence_results.groupby([\"essay_id\"]).agg({\"local_coherence_results\":\"mean\"}).reset_index()"
      ],
      "execution_count": null,
      "outputs": []
    },
    {
      "cell_type": "code",
      "metadata": {
        "id": "ATu-uxq60jYV"
      },
      "source": [
        "final = pd.concat([train[['essay_id','essay_set','domain1_score']]\n",
        "                   , semantic_results_lstm[['semantic_results_lstm']]\n",
        "                   , cosine_similarity[['cosine_similarity']]\n",
        "                   , handcrafted_features[['incorrect_spelling','correct_spelling','lexical_diversity','noun_cnt','verb_cnt','adv_cnt','adj_cnt']]]\n",
        "                  ,axis=1)"
      ],
      "execution_count": null,
      "outputs": []
    },
    {
      "cell_type": "code",
      "metadata": {
        "id": "V94GPu_CLUQO"
      },
      "source": [
        "final = final.merge(\n",
        "    prompt_relevant_results,how='inner',on='essay_id'\n",
        "    ).merge(\n",
        "        global_coherence_results,how='inner',on='essay_id'\n",
        "        ).merge(semantic_results_bert,on='essay_id',how='inner').merge(local_coherence_results,how='left',on='essay_id')"
      ],
      "execution_count": null,
      "outputs": []
    },
    {
      "cell_type": "code",
      "metadata": {
        "id": "F0zuyo8W2bVn"
      },
      "source": [
        "final.loc[final['local_coherence_results'].isna(),'local_coherence_results']=0"
      ],
      "execution_count": null,
      "outputs": []
    },
    {
      "cell_type": "code",
      "metadata": {
        "colab": {
          "base_uri": "https://localhost:8080/",
          "height": 224
        },
        "id": "sutzySbHv7i7",
        "outputId": "c22288fa-12d5-4ef2-8ad3-7a2fd2cc9ebc"
      },
      "source": [
        "final.head()"
      ],
      "execution_count": null,
      "outputs": [
        {
          "output_type": "execute_result",
          "data": {
            "text/html": [
              "<div>\n",
              "<style scoped>\n",
              "    .dataframe tbody tr th:only-of-type {\n",
              "        vertical-align: middle;\n",
              "    }\n",
              "\n",
              "    .dataframe tbody tr th {\n",
              "        vertical-align: top;\n",
              "    }\n",
              "\n",
              "    .dataframe thead th {\n",
              "        text-align: right;\n",
              "    }\n",
              "</style>\n",
              "<table border=\"1\" class=\"dataframe\">\n",
              "  <thead>\n",
              "    <tr style=\"text-align: right;\">\n",
              "      <th></th>\n",
              "      <th>essay_id</th>\n",
              "      <th>essay_set</th>\n",
              "      <th>domain1_score</th>\n",
              "      <th>semantic_results_lstm</th>\n",
              "      <th>cosine_similarity</th>\n",
              "      <th>incorrect_spelling</th>\n",
              "      <th>correct_spelling</th>\n",
              "      <th>lexical_diversity</th>\n",
              "      <th>noun_cnt</th>\n",
              "      <th>verb_cnt</th>\n",
              "      <th>adv_cnt</th>\n",
              "      <th>adj_cnt</th>\n",
              "      <th>prompt_relevant_score</th>\n",
              "      <th>global_coherence_results</th>\n",
              "      <th>semantic_results_bert</th>\n",
              "      <th>local_coherence_results</th>\n",
              "    </tr>\n",
              "  </thead>\n",
              "  <tbody>\n",
              "    <tr>\n",
              "      <th>0</th>\n",
              "      <td>1</td>\n",
              "      <td>1</td>\n",
              "      <td>8</td>\n",
              "      <td>0.689008</td>\n",
              "      <td>0.945513</td>\n",
              "      <td>36</td>\n",
              "      <td>286</td>\n",
              "      <td>2.19</td>\n",
              "      <td>75</td>\n",
              "      <td>57</td>\n",
              "      <td>21</td>\n",
              "      <td>19</td>\n",
              "      <td>0.844146</td>\n",
              "      <td>0.712342</td>\n",
              "      <td>0.691455</td>\n",
              "      <td>0.682910</td>\n",
              "    </tr>\n",
              "    <tr>\n",
              "      <th>1</th>\n",
              "      <td>2</td>\n",
              "      <td>1</td>\n",
              "      <td>9</td>\n",
              "      <td>0.745791</td>\n",
              "      <td>0.957986</td>\n",
              "      <td>24</td>\n",
              "      <td>361</td>\n",
              "      <td>2.21</td>\n",
              "      <td>95</td>\n",
              "      <td>73</td>\n",
              "      <td>25</td>\n",
              "      <td>22</td>\n",
              "      <td>0.838242</td>\n",
              "      <td>0.771744</td>\n",
              "      <td>0.731046</td>\n",
              "      <td>0.734613</td>\n",
              "    </tr>\n",
              "    <tr>\n",
              "      <th>2</th>\n",
              "      <td>3</td>\n",
              "      <td>1</td>\n",
              "      <td>7</td>\n",
              "      <td>0.752003</td>\n",
              "      <td>0.981550</td>\n",
              "      <td>9</td>\n",
              "      <td>251</td>\n",
              "      <td>2.01</td>\n",
              "      <td>71</td>\n",
              "      <td>45</td>\n",
              "      <td>14</td>\n",
              "      <td>19</td>\n",
              "      <td>0.692520</td>\n",
              "      <td>0.636964</td>\n",
              "      <td>0.615243</td>\n",
              "      <td>0.706937</td>\n",
              "    </tr>\n",
              "    <tr>\n",
              "      <th>3</th>\n",
              "      <td>4</td>\n",
              "      <td>1</td>\n",
              "      <td>10</td>\n",
              "      <td>0.761740</td>\n",
              "      <td>0.960965</td>\n",
              "      <td>40</td>\n",
              "      <td>435</td>\n",
              "      <td>2.22</td>\n",
              "      <td>131</td>\n",
              "      <td>76</td>\n",
              "      <td>26</td>\n",
              "      <td>42</td>\n",
              "      <td>0.859761</td>\n",
              "      <td>0.796701</td>\n",
              "      <td>0.791721</td>\n",
              "      <td>0.717029</td>\n",
              "    </tr>\n",
              "    <tr>\n",
              "      <th>4</th>\n",
              "      <td>5</td>\n",
              "      <td>1</td>\n",
              "      <td>8</td>\n",
              "      <td>0.727743</td>\n",
              "      <td>0.962343</td>\n",
              "      <td>24</td>\n",
              "      <td>421</td>\n",
              "      <td>2.52</td>\n",
              "      <td>107</td>\n",
              "      <td>73</td>\n",
              "      <td>39</td>\n",
              "      <td>29</td>\n",
              "      <td>0.841044</td>\n",
              "      <td>0.857217</td>\n",
              "      <td>0.762809</td>\n",
              "      <td>0.653226</td>\n",
              "    </tr>\n",
              "  </tbody>\n",
              "</table>\n",
              "</div>"
            ],
            "text/plain": [
              "   essay_id  essay_set  ...  semantic_results_bert  local_coherence_results\n",
              "0         1          1  ...               0.691455                 0.682910\n",
              "1         2          1  ...               0.731046                 0.734613\n",
              "2         3          1  ...               0.615243                 0.706937\n",
              "3         4          1  ...               0.791721                 0.717029\n",
              "4         5          1  ...               0.762809                 0.653226\n",
              "\n",
              "[5 rows x 16 columns]"
            ]
          },
          "metadata": {
            "tags": []
          },
          "execution_count": 11
        }
      ]
    },
    {
      "cell_type": "markdown",
      "metadata": {
        "id": "RCmjWImS2YDU"
      },
      "source": [
        "## xgboost "
      ]
    },
    {
      "cell_type": "code",
      "metadata": {
        "id": "Ual-1sTT8D6R"
      },
      "source": [
        "def xgboost(X,y, gamma = 1, learning_rate = 0.01, max_depth = 5, n_estimators = 5, subsample = 0.8, random_state=34):\n",
        "  X_train, X_test, y_train, y_test = train_test_split(X, y, test_size=0.2,random_state=123)\n",
        "  # define the model for multi-class classification\n",
        "  mod = xgb.XGBClassifier(\n",
        "    objective=\"multi:softmax\",\n",
        "    gamma=gamma,                 \n",
        "    learning_rate=learning_rate,\n",
        "    max_depth=max_depth,\n",
        "    n_estimators=n_estimators,                                                                    \n",
        "    subsample=subsample,\n",
        "    random_state=random_state) \n",
        "  \n",
        "  mod.fit(X_train, y_train)\n",
        "  preds = mod.predict(X_test)\n",
        "  QWK=cohen_kappa_score(y_test.astype(int), preds.astype(int), labels=None, weights= 'quadratic', sample_weight=None)\n",
        "  return QWK"
      ],
      "execution_count": null,
      "outputs": []
    }
  ]
}